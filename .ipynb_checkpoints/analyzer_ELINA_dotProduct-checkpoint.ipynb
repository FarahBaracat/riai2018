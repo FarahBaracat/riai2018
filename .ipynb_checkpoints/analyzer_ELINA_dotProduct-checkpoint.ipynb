{
 "cells": [
  {
   "cell_type": "code",
   "execution_count": 1,
   "metadata": {},
   "outputs": [],
   "source": [
    "import sys\n",
    "sys.path.insert(0, '../ELINA/python_interface/')\n",
    "import numpy as np\n",
    "import logging\n",
    "import re\n",
    "import csv\n",
    "from elina_box import *\n",
    "from elina_interval import *\n",
    "from elina_abstract0 import *\n",
    "from elina_manager import *\n",
    "from elina_dimension import *\n",
    "from elina_scalar import *\n",
    "from elina_interval import *\n",
    "from elina_linexpr0 import *\n",
    "from elina_lincons0 import *\n",
    "import ctypes\n",
    "from ctypes.util import find_library\n",
    "from gurobipy import *\n",
    "import time\n",
    "\n",
    "%run utils.ipynb\n",
    "\n",
    "libc = CDLL(find_library('c'))\n",
    "\n",
    "cstdout = c_void_p.in_dll(libc, 'stdout')"
   ]
  },
  {
   "cell_type": "code",
   "execution_count": 19,
   "metadata": {},
   "outputs": [],
   "source": [
    "def optimize_bounds_for_objective(objective, lb_affine_neuron, \n",
    "                                  ub_affine_neuron,affine_bounds_for_layer, \n",
    "                                  slope_intercept_for_layer,neuron_num,layer_num, nn):\n",
    "    '''\n",
    "    function gets upper or lower bounds of ELINA for a single neuron in layer and uses solver to optimize them\n",
    "    '''\n",
    "    \n",
    "\n",
    "    layers_count = len(affine_bounds_for_layer.keys())\n",
    "    neurons_count = len(affine_bounds_for_layer['layer0'])        #same n neurons per layer\n",
    "\n",
    "    m = Model(\"mip1\")\n",
    "    m.Params.outputflag=0\n",
    "    print(nn.keys())\n",
    "    weights = nn['weights']\n",
    "    bias = nn['biases']\n",
    "\n",
    "    #\n",
    "    h = {}\n",
    "    h_relu ={}\n",
    "    for layer in range(layer_num+1):\n",
    "        if layer == layer_num:\n",
    "            optimize_to_neuron = neuron_num+1\n",
    "        else:\n",
    "            optimize_to_neuron = neurons_count\n",
    "\n",
    "        for neuron in range(optimize_to_neuron):\n",
    "            \n",
    "            h[layer,neuron] = m.addVar(vtype= GRB.CONTINUOUS, \n",
    "                                           lb=affine_bounds_for_layer['layer'+str(layer)][neuron,0],\n",
    "                                           ub= affine_bounds_for_layer['layer'+str(layer)][neuron,1],\n",
    "                                      name = 'h[%s,%s]'%(layer,neuron))\n",
    "                \n",
    "            h_relu[layer,neuron] = m.addVar(vtype= GRB.CONTINUOUS,\n",
    "                                           name = 'h_relu[%s,%s]'%(layer,neuron))\n",
    "    m.update()\n",
    "    \n",
    "    \n",
    "    \n",
    "    # Set objective\n",
    "    if objective == 'minimize':\n",
    "        m.setObjective(h_relu[layer_num,neuron_num],GRB.MINIMIZE)\n",
    "\n",
    "    if objective == 'maximize':\n",
    "        m.setObjective(h_relu[layer_num,neuron_num],GRB.MAXIMIZE)\n",
    "\n",
    "    m.update()\n",
    "    \n",
    "    for layer in range(layer_num+1):\n",
    "\n",
    "        \n",
    "        if layer == layer_num:\n",
    "            optimize_to_neuron = neuron_num + 1\n",
    "        else:\n",
    "            optimize_to_neuron = neurons_count\n",
    "    \n",
    "        for neuron in range(optimize_to_neuron):\n",
    "            \n",
    "            \n",
    "            lb = affine_bounds_for_layer['layer'+str(layer)][neuron,0]\n",
    "            ub = affine_bounds_for_layer['layer'+str(layer)][neuron,1]\n",
    "            \n",
    "            if layer > 0:\n",
    "                h_relu_prev_layer = [h_relu[layer-1,i] for i in range(neurons_count)]\n",
    "                z = LinExpr(weights[layer][neuron,:].reshape(neurons_count,1),h_relu_prev_layer)\n",
    "                z.addConstant(bias[layer][neuron])            \n",
    "\n",
    "                m.addConstr(rhs = z, sense = GRB.EQUAL, lhs = h[layer,neuron],name='linear[%s,%s]'%(layer,neuron))\n",
    "\n",
    "            else:\n",
    "                m.addConstr(lhs = h[layer,neuron], rhs= affine_bounds_for_layer['layer0'][neuron,0],\n",
    "                            sense= GRB.GREATER_EQUAL,name='lb_h[0,%s]'%(neuron))\n",
    "                m.addConstr(lhs = h[layer,neuron], rhs= affine_bounds_for_layer['layer0'][neuron,1],\n",
    "                            sense= GRB.LESS_EQUAL,name='ub_h[0,%s]'%(neuron))\n",
    "\n",
    "            if (lb <= 0) & (ub <= 0):\n",
    "                m.addConstr(lhs = h_relu[layer,neuron], rhs=0.0, sense= GRB.EQUAL)\n",
    "                \n",
    "            if (lb >0) & (ub > 0):\n",
    "                m.addConstr(lhs = h_relu[layer,neuron], rhs=h[layer,neuron], sense= GRB.EQUAL)\n",
    "                \n",
    "            \n",
    "            if (lb<0) & (ub>0):\n",
    "                \n",
    "                m.addConstr(h_relu[layer,neuron] <= slope_intercept_for_layer['layer'+str(layer)][neuron,0]*\n",
    "                                h[layer,neuron] + slope_intercept_for_layer['layer'+str(layer)][neuron,1],\n",
    "                               name='line_h_relu[%s,%s]'%(layer,neuron))\n",
    "\n",
    "            m.addConstr(h_relu[layer,neuron]>=0,name='pos_h_relu[%s,%s]'%(layer,neuron))\n",
    "            m.addConstr(h_relu[layer,neuron]>= h[layer,neuron], name='gr_h_relu[%s,%s]'%(layer,neuron))\n",
    "                \n",
    "            \n",
    "                   \n",
    "                \n",
    "    m.update()\n",
    "    \n",
    "    \n",
    "#     m.write(\"model.mps\")\n",
    "\n",
    "    \n",
    "    m.optimize()\n",
    "    \n",
    "    if (GRB.OPTIMAL !=2):\n",
    "        print(\"\\nGurobi Status Code:\", GRB.OPTIMAL)\n",
    "\n",
    "    \n",
    "    return m.objVal\n",
    "\n",
    "\n",
    "    \n"
   ]
  },
  {
   "cell_type": "code",
   "execution_count": 38,
   "metadata": {},
   "outputs": [
    {
     "name": "stdout",
     "output_type": "stream",
     "text": [
      "(1, 2)\n",
      "dict_keys(['weights', 'biases'])\n"
     ]
    },
    {
     "data": {
      "text/plain": [
       "0.019961461686685823"
      ]
     },
     "execution_count": 38,
     "metadata": {},
     "output_type": "execute_result"
    }
   ],
   "source": [
    "#test optmize function\n",
    "objective = 'maximize'\n",
    "lb_affine_neuron = -0.013\n",
    "ub_affine_neuron = 0.02\n",
    "affine_bounds_for_layer={'layer0': np.array([[-0.13,0.02]])}\n",
    "slope_intercept_for_layer={'layer0': np.array([[0.13333, 0.0173]])}\n",
    "\n",
    "neuron_num = 0\n",
    "layer_num = 0\n",
    "nn_test = {\"weights\":np.array([0.3,0.2]),\"biases\":[-0.3]}\n",
    "\n",
    "print(affine_bounds_for_layer['layer0'].shape)\n",
    "optimize_bounds_for_objective(objective, lb_affine_neuron, \n",
    "                                  ub_affine_neuron,affine_bounds_for_layer, \n",
    "                                  slope_intercept_for_layer,neuron_num,layer_num, nn_test)"
   ]
  },
  {
   "cell_type": "code",
   "execution_count": 37,
   "metadata": {},
   "outputs": [
    {
     "name": "stdout",
     "output_type": "stream",
     "text": [
      "Optimize a model with 3 rows, 2 columns and 5 nonzeros\n"
     ]
    },
    {
     "name": "stderr",
     "output_type": "stream",
     "text": [
      "INFO:gurobipy.gurobipy:Optimize a model with 3 rows, 2 columns and 5 nonzeros\n"
     ]
    },
    {
     "name": "stdout",
     "output_type": "stream",
     "text": [
      "Coefficient statistics:\n"
     ]
    },
    {
     "name": "stderr",
     "output_type": "stream",
     "text": [
      "INFO:gurobipy.gurobipy:Coefficient statistics:\n"
     ]
    },
    {
     "name": "stdout",
     "output_type": "stream",
     "text": [
      "  Matrix range     [2e-01, 1e+00]\n"
     ]
    },
    {
     "name": "stderr",
     "output_type": "stream",
     "text": [
      "INFO:gurobipy.gurobipy:  Matrix range     [2e-01, 1e+00]\n"
     ]
    },
    {
     "name": "stdout",
     "output_type": "stream",
     "text": [
      "  Objective range  [1e+00, 1e+00]\n"
     ]
    },
    {
     "name": "stderr",
     "output_type": "stream",
     "text": [
      "INFO:gurobipy.gurobipy:  Objective range  [1e+00, 1e+00]\n"
     ]
    },
    {
     "name": "stdout",
     "output_type": "stream",
     "text": [
      "  Bounds range     [3e-02, 2e-01]\n"
     ]
    },
    {
     "name": "stderr",
     "output_type": "stream",
     "text": [
      "INFO:gurobipy.gurobipy:  Bounds range     [3e-02, 2e-01]\n"
     ]
    },
    {
     "name": "stdout",
     "output_type": "stream",
     "text": [
      "  RHS range        [2e-02, 2e-02]\n"
     ]
    },
    {
     "name": "stderr",
     "output_type": "stream",
     "text": [
      "INFO:gurobipy.gurobipy:  RHS range        [2e-02, 2e-02]\n"
     ]
    },
    {
     "name": "stdout",
     "output_type": "stream",
     "text": [
      "Presolve removed 3 rows and 2 columns\n"
     ]
    },
    {
     "name": "stderr",
     "output_type": "stream",
     "text": [
      "INFO:gurobipy.gurobipy:Presolve removed 3 rows and 2 columns\n"
     ]
    },
    {
     "name": "stdout",
     "output_type": "stream",
     "text": [
      "Presolve time: 0.08s\n"
     ]
    },
    {
     "name": "stderr",
     "output_type": "stream",
     "text": [
      "INFO:gurobipy.gurobipy:Presolve time: 0.08s\n"
     ]
    },
    {
     "name": "stdout",
     "output_type": "stream",
     "text": [
      "Presolve: All rows and columns removed\n"
     ]
    },
    {
     "name": "stderr",
     "output_type": "stream",
     "text": [
      "INFO:gurobipy.gurobipy:Presolve: All rows and columns removed\n"
     ]
    },
    {
     "name": "stdout",
     "output_type": "stream",
     "text": [
      "Iteration    Objective       Primal Inf.    Dual Inf.      Time\n"
     ]
    },
    {
     "name": "stderr",
     "output_type": "stream",
     "text": [
      "INFO:gurobipy.gurobipy:Iteration    Objective       Primal Inf.    Dual Inf.      Time\n"
     ]
    },
    {
     "name": "stdout",
     "output_type": "stream",
     "text": [
      "       0    1.9961462e-02   0.000000e+00   0.000000e+00      1s\n"
     ]
    },
    {
     "name": "stderr",
     "output_type": "stream",
     "text": [
      "INFO:gurobipy.gurobipy:       0    1.9961462e-02   0.000000e+00   0.000000e+00      1s\n"
     ]
    },
    {
     "name": "stdout",
     "output_type": "stream",
     "text": [
      "\n"
     ]
    },
    {
     "name": "stderr",
     "output_type": "stream",
     "text": [
      "INFO:gurobipy.gurobipy:\n"
     ]
    },
    {
     "name": "stdout",
     "output_type": "stream",
     "text": [
      "Solved in 0 iterations and 0.11 seconds\n"
     ]
    },
    {
     "name": "stderr",
     "output_type": "stream",
     "text": [
      "INFO:gurobipy.gurobipy:Solved in 0 iterations and 0.11 seconds\n"
     ]
    },
    {
     "name": "stdout",
     "output_type": "stream",
     "text": [
      "Optimal objective  1.996146169e-02\n"
     ]
    },
    {
     "name": "stderr",
     "output_type": "stream",
     "text": [
      "INFO:gurobipy.gurobipy:Optimal objective  1.996146169e-02\n"
     ]
    },
    {
     "data": {
      "text/plain": [
       "0.019961461686685826"
      ]
     },
     "execution_count": 37,
     "metadata": {},
     "output_type": "execute_result"
    }
   ],
   "source": [
    "test_model = Model('test')\n",
    "h = test_model.addVar(vtype= GRB.CONTINUOUS,lb=-0.13,ub= 0.02)\n",
    "h_relu = test_model.addVar(vtype= GRB.CONTINUOUS)\n",
    "\n",
    "test_model.setObjective(h_relu, GRB.MAXIMIZE)\n",
    "test_model.addConstr(h_relu>= 0)\n",
    "test_model.addConstr(h_relu>=h)\n",
    "test_model.addConstr(lhs=h_relu, rhs= 0.13333*h+0.0173, sense=GRB.LESS_EQUAL)\n",
    "\n",
    "test_model.optimize()\n",
    "\n",
    "test_model.objVal"
   ]
  },
  {
   "cell_type": "code",
   "execution_count": 3,
   "metadata": {},
   "outputs": [],
   "source": [
    "def get_bounds_linear_solver(nn,affine_bounds_for_layer,apply_linear_solver_to_layer,neuron_num, slope_intercept_for_layer):\n",
    "    \n",
    "    \n",
    "    '''function gets all previous bounds and lambda/mu, returns the bounds for specific neuron n in layer m'''\n",
    "\n",
    "    lb_affine = affine_bounds_for_layer[\"layer\"+str(apply_linear_solver_to_layer)][neuron_num][0]\n",
    "    ub_affine = affine_bounds_for_layer[\"layer\"+str(apply_linear_solver_to_layer)][neuron_num][1]\n",
    "    \n",
    "\n",
    "    h_relu_ub = optimize_bounds_for_objective('maximize', lb_affine, \n",
    "                                              ub_affine,\n",
    "                                              affine_bounds_for_layer,\n",
    "                                              slope_intercept_for_layer,neuron_num, \n",
    "                                              apply_linear_solver_to_layer,\n",
    "                                             nn)\n",
    "    h_relu_lb = optimize_bounds_for_objective('minimize', lb_affine, \n",
    "                                              ub_affine,affine_bounds_for_layer,\n",
    "                                              slope_intercept_for_layer,neuron_num, \n",
    "                                              apply_linear_solver_to_layer,\n",
    "                                             nn)\n",
    "        \n",
    "        \n",
    "        \n",
    "    return h_relu_lb, h_relu_ub\n",
    "\n",
    "    "
   ]
  },
  {
   "cell_type": "code",
   "execution_count": 4,
   "metadata": {},
   "outputs": [],
   "source": [
    "def predict_label(nn, LB_N0, UB_N0, label):\n",
    "    num_pixels = len(LB_N0)  # number of pixels in image\n",
    "\n",
    "    nn.ffn_counter = 0\n",
    "\n",
    "    numlayer = nn.numlayer\n",
    "\n",
    "    logging.debug(\"Layers #:{}\".format(numlayer))\n",
    "\n",
    "    elina_manager = elina_box_manager_alloc()  # create manager to the box domain\n",
    "\n",
    "    interval_array = elina_interval_array_alloc(num_pixels)  # allocate a new ELina interval\n",
    "\n",
    "    for i in range(num_pixels):  # disturb over the interval\n",
    "\n",
    "        elina_interval_set_double(interval_array[i], LB_N0[i], UB_N0[i])\n",
    "\n",
    "    abstraction_shape = elina_abstract0_of_box(elina_manager, 0, num_pixels, interval_array)  # create elina_element\n",
    "\n",
    "    elina_interval_array_free(interval_array, num_pixels)\n",
    "    \n",
    "    affine_bounds_for_layer ={}\n",
    "    slope_intercept_for_layer = {}\n",
    "    solver_bounds_for_layer = {}\n",
    "\n",
    "\n",
    "    for layer_num in range(numlayer):\n",
    "\n",
    "\n",
    "        if nn.layertypes[layer_num] in ['ReLU', 'Affine']:\n",
    "\n",
    "            weights = nn.weights[nn.ffn_counter]\n",
    "\n",
    "            biases = nn.biases[nn.ffn_counter]\n",
    "\n",
    "            dims = elina_abstract0_dimension(elina_manager, abstraction_shape)\n",
    "\n",
    "            num_in_pixels = dims.intdim + dims.realdim\n",
    "\n",
    "            num_out_pixels = len(weights)  # len(weights) = number of neurons in layer\n",
    "\n",
    "            dimadd = elina_dimchange_alloc(0, num_out_pixels)  # allocate new Elina dim change\n",
    "\n",
    "            for i in range(num_out_pixels):\n",
    "                dimadd.contents.dim[i] = num_in_pixels\n",
    "\n",
    "            elina_abstract0_add_dimensions(elina_manager, True, abstraction_shape, dimadd, False)\n",
    "\n",
    "            elina_dimchange_free(dimadd)\n",
    "\n",
    "            np.ascontiguousarray(weights, dtype=np.double)\n",
    "\n",
    "            np.ascontiguousarray(biases, dtype=np.double)\n",
    "\n",
    "            var = num_in_pixels\n",
    "\n",
    "            print(\"original num_pixels: {} , num_in_pixels: {}, num_out_pixels:{}\".format(num_pixels,\n",
    "\n",
    "                                                                                                  num_in_pixels,\n",
    "\n",
    "                                                                                                  num_out_pixels))\n",
    "\n",
    "            #--------------------------- handle affine layer---------------------------\n",
    "                \n",
    "            for i in range(num_out_pixels): \n",
    "\n",
    "                tdim = ElinaDim(var)\n",
    "                linexpr0 = generate_linexpr0(weights[i], biases[i], num_in_pixels)\n",
    "                abstraction_shape = elina_abstract0_assign_linexpr_array(elina_manager, True, abstraction_shape, tdim,\n",
    "                                                                         linexpr0, 1, None)\n",
    "                var += 1\n",
    "\n",
    "            dimrem = elina_dimchange_alloc(0, num_in_pixels)\n",
    "\n",
    "            for i in range(num_in_pixels):\n",
    "                dimrem.contents.dim[i] = i\n",
    "\n",
    "            elina_abstract0_remove_dimensions(elina_manager, True, abstraction_shape, dimrem)  \n",
    "            elina_dimchange_free(dimrem)  \n",
    "\n",
    "\n",
    "            bounds = elina_abstract0_to_box(elina_manager, abstraction_shape)\n",
    "\n",
    "            #--------------------------- handle RELU ---------------------------\n",
    "\n",
    "            if (nn.layertypes[layer_num] == 'ReLU'):\n",
    "                print('---------------RELU--------------')\n",
    "\n",
    "                abstraction_shape = relu_box_layerwise(elina_manager, True, abstraction_shape, 0, num_out_pixels)\n",
    "\n",
    "                bounds = elina_abstract0_to_box(elina_manager, abstraction_shape) \n",
    "\n",
    "                element_dim = elina_abstract0_dimension(elina_manager, abstraction_shape)\n",
    "                    \n",
    "\n",
    "#                     for i in range(num_out_pixels):\n",
    "#                         print(\n",
    "#                             \"[{},{}]\".format(bounds[i].contents.inf.contents.val.dbl,\n",
    "\n",
    "#                                                                               bounds[i].contents.sup.contents.val.dbl))\n",
    "\n",
    "            nn.ffn_counter += 1\n",
    "\n",
    "\n",
    "        else:\n",
    "\n",
    "            print(' net type not supported')\n",
    "\n",
    "\n",
    "    dims = elina_abstract0_dimension(elina_manager, abstraction_shape)\n",
    "\n",
    "    output_size = dims.intdim + dims.realdim\n",
    "\n",
    "    bounds = elina_abstract0_to_box(elina_manager, abstraction_shape)\n",
    "\n",
    "\n",
    "    verified_flag = True\n",
    "\n",
    "    predicted_label = 0\n",
    "\n",
    "\n",
    "    for i in range(output_size):\n",
    "\n",
    "        inf = bounds[i].contents.inf.contents.val.dbl\n",
    "\n",
    "        flag = True\n",
    "\n",
    "        for j in range(output_size):\n",
    "\n",
    "            if (j != i):\n",
    "\n",
    "                sup = bounds[j].contents.sup.contents.val.dbl\n",
    "\n",
    "                if (inf <= sup):\n",
    "                    flag = False\n",
    "\n",
    "                    break\n",
    "\n",
    "        if (flag):\n",
    "            predicted_label = i\n",
    "\n",
    "            break\n",
    "\n",
    "\n",
    "    elina_interval_array_free(bounds, output_size)\n",
    "\n",
    "    elina_abstract0_free(elina_manager, abstraction_shape)\n",
    "\n",
    "    elina_manager_free(elina_manager)\n",
    "\n",
    "    return predicted_label"
   ]
  },
  {
   "cell_type": "code",
   "execution_count": 5,
   "metadata": {},
   "outputs": [],
   "source": [
    "def verify(nn, LB_N0, UB_N0, label,apply_linear_solver_to_layer):\n",
    "    num_pixels = len(LB_N0)  \n",
    "    nn.ffn_counter = 0\n",
    "    numlayer = nn.numlayer\n",
    "\n",
    "    elina_manager = elina_box_manager_alloc()  # create manager to the box domain\n",
    "\n",
    "    interval_array = elina_interval_array_alloc(num_pixels)  # allocate a new ELina interval\n",
    "\n",
    "    for i in range(num_pixels):  \n",
    "\n",
    "        elina_interval_set_double(interval_array[i], LB_N0[i], UB_N0[i])\n",
    "\n",
    "    ## construct input abstraction\n",
    "    abstraction_shape = elina_abstract0_of_box(elina_manager, 0, num_pixels, interval_array)  \n",
    "    elina_interval_array_free(interval_array, num_pixels)\n",
    "    \n",
    "    affine_bounds_for_layer ={}\n",
    "    slope_intercept_for_layer = {}\n",
    "    solver_bounds_for_layer = {}\n",
    "\n",
    "\n",
    "    for layer_num in range(numlayer):\n",
    "\n",
    "        if nn.layertypes[layer_num] in ['ReLU', 'Affine']:\n",
    "\n",
    "            weights = nn.weights[nn.ffn_counter]\n",
    "\n",
    "            biases = nn.biases[nn.ffn_counter]\n",
    "\n",
    "            dims = elina_abstract0_dimension(elina_manager, abstraction_shape)\n",
    "\n",
    "            num_in_pixels = dims.intdim + dims.realdim\n",
    "\n",
    "            num_out_pixels = len(weights)  \n",
    "\n",
    "            dimadd = elina_dimchange_alloc(0, num_out_pixels)  # allocate new Elina dim change\n",
    "\n",
    "            for i in range(num_out_pixels):\n",
    "                dimadd.contents.dim[i] = num_in_pixels\n",
    "\n",
    "            elina_abstract0_add_dimensions(elina_manager, True, abstraction_shape, dimadd, False)\n",
    "\n",
    "            elina_dimchange_free(dimadd)\n",
    "\n",
    "            np.ascontiguousarray(weights, dtype=np.double)\n",
    "\n",
    "            np.ascontiguousarray(biases, dtype=np.double)\n",
    "\n",
    "            var = num_in_pixels\n",
    "\n",
    "    \n",
    "\n",
    "            #--------------------------- handle affine layer---------------------------\n",
    "                \n",
    "            bounds_array = np.empty([num_out_pixels,2])  #lb and ub after affine for neurons in layer i\n",
    "            slope_intercept_array = np.empty([num_out_pixels,2]) #slope & intercept for neurons in layer i\n",
    "            \n",
    "            if layer_num <= apply_linear_solver_to_layer:\n",
    "                #----Use ELINA on FIRST layers-----#\n",
    "                for i in range(num_out_pixels): \n",
    "\n",
    "                    tdim = ElinaDim(var)\n",
    "                    linexpr0 = generate_linexpr0(weights[i], biases[i], num_in_pixels)\n",
    "                    abstraction_shape = elina_abstract0_assign_linexpr_array(elina_manager, True, abstraction_shape, tdim,\n",
    "                                                                             linexpr0, 1, None)\n",
    "                    var += 1\n",
    "\n",
    "                dimrem = elina_dimchange_alloc(0, num_in_pixels)\n",
    "\n",
    "                for i in range(num_in_pixels):\n",
    "                    dimrem.contents.dim[i] = i\n",
    "\n",
    "                elina_abstract0_remove_dimensions(elina_manager, True, abstraction_shape, dimrem)\n",
    "                elina_dimchange_free(dimrem)  \n",
    "\n",
    "                bounds = elina_abstract0_to_box(elina_manager, abstraction_shape)\n",
    "\n",
    "                for i in range(num_out_pixels):\n",
    "                    bounds_array[i,0] = bounds[i].contents.inf.contents.val.dbl\n",
    "                    bounds_array[i,1] = bounds[i].contents.sup.contents.val.dbl\n",
    "\n",
    "                    slope_intercept_array[i,0] = bounds_array[i,1] / (bounds_array[i,1]-bounds_array[i,0])\n",
    "                    slope_intercept_array[i,1] = -(bounds_array[i,1] * bounds_array[i,0])/ (bounds_array[i,1]-bounds_array[i,0])\n",
    "                \n",
    "                \n",
    "                slope_intercept_for_layer['layer' + str(layer_num)] = slope_intercept_array        \n",
    "                affine_bounds_for_layer['layer' +str(layer_num)] = bounds_array\n",
    "            else:\n",
    "\n",
    "            \n",
    "                bounds_array = np.dot(weights,solver_bounds_for_layer['layer'+str(layer_num-1)])+biases.reshape(len(biases),1)\n",
    "                bounds_array = np.sort(bounds_array)\n",
    "                slope_intercept_array[:,0] = bounds_array[:,1] / (bounds_array[:,1]-bounds_array[:,0])\n",
    "                slope_intercept_array[:,1] = -(bounds_array[:,1] * bounds_array[:,0])/ (bounds_array[:,1]-bounds_array[:,0])\n",
    "\n",
    "                slope_intercept_for_layer['layer' + str(layer_num)] = slope_intercept_array        \n",
    "                affine_bounds_for_layer['layer' +str(layer_num)] = bounds_array\n",
    "\n",
    "            print(\"affine bounds keys  \", affine_bounds_for_layer.keys())\n",
    "            print(\"{}\".format(affine_bounds_for_layer['layer'+str(layer_num)]))\n",
    "\n",
    "            #--------------------------- handle RELU ---------------------------\n",
    "\n",
    "            if (nn.layertypes[layer_num] == 'ReLU'):\n",
    "                abstraction_shape = relu_box_layerwise(elina_manager, True, abstraction_shape, 0, num_out_pixels)\n",
    "\n",
    "                bounds = elina_abstract0_to_box(elina_manager, abstraction_shape)  # Read in bounds after ReLU\n",
    "\n",
    "                element_dim = elina_abstract0_dimension(elina_manager, abstraction_shape)\n",
    "                    \n",
    "\n",
    "                if layer_num == apply_linear_solver_to_layer:\n",
    "\n",
    "                    linear_solver_relu_bounds = np.empty([affine_bounds_for_layer['layer'+str(layer_num)].shape[0],2])\n",
    "                    for neuron in range(affine_bounds_for_layer['layer'+str(layer_num)].shape[0]):\n",
    "                        linear_solver_relu_bounds[neuron,0],linear_solver_relu_bounds[neuron,1] = get_bounds_linear_solver(nn,\n",
    "                                                                                                                           affine_bounds_for_layer,\n",
    "                                                                                       layer_num,neuron,\n",
    "                                                                                       slope_intercept_for_layer)\n",
    "                    print('---------------RELU--------------')\n",
    "\n",
    "                    print('\\n Solver output layer: {}\\n {}\\n'.format(layer_num,linear_solver_relu_bounds))\n",
    "\n",
    "                    solver_bounds_for_layer['layer'+str(layer_num)] = linear_solver_relu_bounds\n",
    "                    \n",
    "                elif layer_num > apply_linear_solver_to_layer:\n",
    "                    #---------------Propagate till output---------------------#\n",
    "                    solver_bounds_for_layer['layer'+str(layer_num)] = affine_bounds_for_layer['layer'+str(layer_num)]\n",
    "                    for i in range(affine_bounds_for_layer['layer' +str(layer_num)].shape[0]):\n",
    "                        \n",
    "                        lb = affine_bounds_for_layer['layer' +str(layer_num)][i,0]\n",
    "                        ub = affine_bounds_for_layer['layer' +str(layer_num)][i,1]\n",
    "                        \n",
    "                        if (lb <= 0):\n",
    "                            solver_bounds_for_layer['layer' +str(layer_num)][i,0] = 0\n",
    "                        \n",
    "                        if (ub<=0):\n",
    "                            solver_bounds_for_layer['layer' +str(layer_num)][i,1] = 0\n",
    "\n",
    "                            \n",
    "            nn.ffn_counter += 1\n",
    "\n",
    "\n",
    "        else:\n",
    "\n",
    "            print(' net type not supported')\n",
    "\n",
    "\n",
    "    verified_flag = True\n",
    "\n",
    "    predicted_label = 0\n",
    "\n",
    "    output_layer_prob = solver_bounds_for_layer['layer'+str(numlayer-1)]\n",
    "    \n",
    "    inf = output_layer_prob[label,0]\n",
    "    print(\"\\Last layer:{} \".format(solver_bounds_for_layer))\n",
    "    print(\"label:{} inf:{}\".format(label,inf))\n",
    "\n",
    "    for j in range(num_out_pixels):\n",
    "\n",
    "        if (j != label):\n",
    "\n",
    "            sup = output_layer_prob[j,1]\n",
    "#             print(\"\\nsup:{}\".format(sup))\n",
    "\n",
    "            if (inf <= sup):\n",
    "                predicted_label = label\n",
    "\n",
    "                verified_flag = False\n",
    "\n",
    "                break\n",
    "\n",
    "\n",
    "    elina_abstract0_free(elina_manager, abstraction_shape)\n",
    "\n",
    "    elina_manager_free(elina_manager)\n",
    "\n",
    "    return verified_flag"
   ]
  },
  {
   "cell_type": "code",
   "execution_count": 6,
   "metadata": {
    "scrolled": false
   },
   "outputs": [],
   "source": [
    "def main(argv, solver_layer):\n",
    "    logging.basicConfig(level=logging.DEBUG)\n",
    "\n",
    "    print(\"\\n--------------START--------------------------------\")\n",
    "\n",
    "    if len(argv) < 3 or len(argv) > 4:\n",
    "        print('usage: python3.6 ' + argv[0] + ' net.txt spec.txt [timeout]')\n",
    "\n",
    "        exit(1)\n",
    "\n",
    "    netname = argv[1]\n",
    "    specname = argv[2]\n",
    "    epsilon = float(argv[3])\n",
    "\n",
    "        # c_label = int(argv[4])\n",
    "\n",
    "    with open(netname, 'r') as netfile:\n",
    "        netstring = netfile.read()\n",
    "\n",
    "    with open(specname, 'r') as specfile:\n",
    "        specstring = specfile.read()\n",
    "\n",
    "    nn = parse_net(netstring)\n",
    "    weights = nn.weights\n",
    "    bias = nn.biases\n",
    "    print(\"weights:,\",nn.weights[0].shape)\n",
    "    print(\"bias,\",nn.biases[0].shape)\n",
    "\n",
    "    x0_low, x0_high = parse_spec(specstring)\n",
    "\n",
    "    LB_N0, UB_N0 = get_perturbed_image(x0_low, 0)\n",
    "\n",
    "    print(\"Analyze to get label.....................\")\n",
    "\n",
    "    label = predict_label(nn,LB_N0,UB_N0,0)\n",
    "\n",
    "    start = time.time()\n",
    "\n",
    "    if (label == int(x0_low[0])):\n",
    "\n",
    "        LB_N0, UB_N0 = get_perturbed_image(x0_low, epsilon)\n",
    "\n",
    "        print(\"\\nAnalyze to verify robustness.....................\")\n",
    "\n",
    "        verified_flag = verify(nn,LB_N0,UB_N0,label, apply_linear_solver_to_layer= solver_layer)\n",
    "        \n",
    "        image_verified = \"\"\n",
    "        if (verified_flag):\n",
    "\n",
    "#             print(\"verified\")\n",
    "            image_verified = \"verified\"\n",
    "\n",
    "        else:\n",
    "\n",
    "#             print(\"can not be verified\")\n",
    "            image_verified = \"can not be verified\"\n",
    "    else:\n",
    "        image_verified = \"image not correctly classified\"\n",
    "#         print(\n",
    "#             \"image not correctly classified by the network. expected label \", int(x0_low[0]), \" classified label: \", label)\n",
    "\n",
    "    end = time.time()\n",
    "    analysis_time = (end - start)\n",
    "#     print(\"analysis time: \", (end - start), \" seconds\")\n",
    "    \n",
    "    return image_verified, analysis_time,label"
   ]
  },
  {
   "cell_type": "code",
   "execution_count": 7,
   "metadata": {},
   "outputs": [],
   "source": [
    "solver_layer = 2\n",
    "network = \"3_10\"\n",
    "epsilon = 0.1\n",
    "num_images = 1"
   ]
  },
  {
   "cell_type": "code",
   "execution_count": 8,
   "metadata": {
    "scrolled": true
   },
   "outputs": [
    {
     "name": "stderr",
     "output_type": "stream",
     "text": [
      "DEBUG:root:Layers #:3\n"
     ]
    },
    {
     "name": "stdout",
     "output_type": "stream",
     "text": [
      "\n",
      "--------------START--------------------------------\n",
      "weights:, (10, 784)\n",
      "bias, (10,)\n",
      "Analyze to get label.....................\n",
      "original num_pixels: 784 , num_in_pixels: 784, num_out_pixels:10\n",
      "---------------RELU--------------\n",
      "original num_pixels: 784 , num_in_pixels: 10, num_out_pixels:10\n",
      "---------------RELU--------------\n",
      "original num_pixels: 784 , num_in_pixels: 10, num_out_pixels:10\n",
      "---------------RELU--------------\n",
      "\n",
      "Analyze to verify robustness.....................\n",
      "affine bounds keys   dict_keys(['layer0'])\n",
      "[[ -6.61008731   2.54253074]\n",
      " [ -6.32094177   2.68005454]\n",
      " [  0.96279969  10.61682458]\n",
      " [ -2.0278671    8.07981683]\n",
      " [ -7.2961938    1.62416151]\n",
      " [-12.37468368  -3.07326732]\n",
      " [ -2.32752471   7.10831986]\n",
      " [ -5.18459754   5.14323654]\n",
      " [-11.93932884  -0.96232441]\n",
      " [ -1.94263033   6.61868669]]\n",
      "affine bounds keys   dict_keys(['layer0', 'layer1'])\n",
      "[[ -5.46966462   8.66171693]\n",
      " [-16.27568071   7.15973759]\n",
      " [ -9.83621611  10.88618303]\n",
      " [-11.66864931   8.36021081]\n",
      " [-10.22790097   8.52603211]\n",
      " [ -1.8155417   15.14507527]\n",
      " [ -1.55528434  11.85642245]\n",
      " [-25.93227033   2.0208884 ]\n",
      " [ -5.11437781   4.04368091]\n",
      " [ -6.2173591    8.43505032]]\n",
      "affine bounds keys   dict_keys(['layer0', 'layer1', 'layer2'])\n",
      "[[-27.06935558  18.36681275]\n",
      " [-25.51429113  13.19726049]\n",
      " [ -8.36885279  19.24202173]\n",
      " [ -6.29622129  22.02823052]\n",
      " [-17.36681285  14.25171413]\n",
      " [-12.920397    18.27508143]\n",
      " [-35.9270688   10.31260439]\n",
      " [-21.91346912  30.77601192]\n",
      " [-12.30168251  15.32253449]\n",
      " [-14.8684595   24.44231269]]\n",
      "Academic license - for non-commercial use only\n"
     ]
    },
    {
     "name": "stderr",
     "output_type": "stream",
     "text": [
      "INFO:gurobipy.gurobipy:Academic license - for non-commercial use only\n"
     ]
    },
    {
     "name": "stdout",
     "output_type": "stream",
     "text": [
      "---------------RELU--------------\n",
      "\n",
      " Solver output layer: 2\n",
      " [[ 0.         16.21845353]\n",
      " [ 0.         11.77028044]\n",
      " [ 0.         16.01460956]\n",
      " [ 0.         18.15267157]\n",
      " [ 0.         11.57521158]\n",
      " [ 0.         15.13249466]\n",
      " [ 0.          9.51610766]\n",
      " [ 0.         26.98240809]\n",
      " [ 0.         13.43121836]\n",
      " [ 0.         19.91025714]]\n",
      "\n",
      "\\Last layer:{'layer2': array([[ 0.        , 16.21845353],\n",
      "       [ 0.        , 11.77028044],\n",
      "       [ 0.        , 16.01460956],\n",
      "       [ 0.        , 18.15267157],\n",
      "       [ 0.        , 11.57521158],\n",
      "       [ 0.        , 15.13249466],\n",
      "       [ 0.        ,  9.51610766],\n",
      "       [ 0.        , 26.98240809],\n",
      "       [ 0.        , 13.43121836],\n",
      "       [ 0.        , 19.91025714]])} \n",
      "label:7 inf:0.0\n",
      "can not be verified\n"
     ]
    }
   ],
   "source": [
    "output_file = open(\"output_\"+network+\"_eps_\"+str(epsilon)+\"_solver+dotProduct_\"+str(solver_layer)+\"_numimages_\"+str(num_images)+\".txt\", \"w+\")\n",
    "verified_count = 0\n",
    "for i in range(num_images):\n",
    "    image_n = \"../mnist_images/img\"+str(i)+\".txt\"\n",
    "    argv = ['python3' ,'../mnist_nets/mnist_relu_'+str(network)+'.txt', image_n, epsilon]\n",
    "    verified, analysis_time,label = main(argv, solver_layer)\n",
    "    print(verified)\n",
    "    if verified == \"verified\":\n",
    "        verified_count+=1\n",
    "    output_file.write(\"img {} ------------{} ------------label {}-----------------analysis time:{}\\n\".format(i,\n",
    "                                                                                                             verified, \n",
    "                                                                                                             label,\n",
    "                                                                                                             analysis_time))\n",
    "output_file.write(\"#verified:{}\".format(verified_count))   \n",
    "output_file.close()\n"
   ]
  },
  {
   "cell_type": "code",
   "execution_count": 9,
   "metadata": {},
   "outputs": [
    {
     "data": {
      "text/plain": [
       "0"
      ]
     },
     "execution_count": 9,
     "metadata": {},
     "output_type": "execute_result"
    }
   ],
   "source": [
    "verified_count"
   ]
  },
  {
   "cell_type": "code",
   "execution_count": null,
   "metadata": {},
   "outputs": [],
   "source": []
  }
 ],
 "metadata": {
  "kernelspec": {
   "display_name": "Python 3",
   "language": "python",
   "name": "python3"
  },
  "language_info": {
   "codemirror_mode": {
    "name": "ipython",
    "version": 3
   },
   "file_extension": ".py",
   "mimetype": "text/x-python",
   "name": "python",
   "nbconvert_exporter": "python",
   "pygments_lexer": "ipython3",
   "version": "3.6.7"
  }
 },
 "nbformat": 4,
 "nbformat_minor": 2
}
